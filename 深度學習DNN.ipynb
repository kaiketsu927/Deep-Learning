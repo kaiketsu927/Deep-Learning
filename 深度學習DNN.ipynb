{
  "nbformat": 4,
  "nbformat_minor": 0,
  "metadata": {
    "colab": {
      "provenance": [],
      "gpuType": "T4",
      "mount_file_id": "1th-giGOjOJ6zw84hf47bwrHQTT8xaBeg",
      "authorship_tag": "ABX9TyM3TEBX22E2Wqv/QYeNCY6N",
      "include_colab_link": true
    },
    "kernelspec": {
      "name": "python3",
      "display_name": "Python 3"
    },
    "language_info": {
      "name": "python"
    },
    "accelerator": "GPU"
  },
  "cells": [
    {
      "cell_type": "markdown",
      "metadata": {
        "id": "view-in-github",
        "colab_type": "text"
      },
      "source": [
        "<a href=\"https://colab.research.google.com/github/kaiketsu927/Deep-Learning/blob/main/%E6%B7%B1%E5%BA%A6%E5%AD%B8%E7%BF%92DNN.ipynb\" target=\"_parent\"><img src=\"https://colab.research.google.com/assets/colab-badge.svg\" alt=\"Open In Colab\"/></a>"
      ]
    },
    {
      "cell_type": "code",
      "execution_count": null,
      "metadata": {
        "id": "iov8Fi2VOeWa"
      },
      "outputs": [],
      "source": [
        "# Basic packages always been used\n",
        "import pandas as pd\n",
        "import numpy as np\n",
        "import matplotlib.pyplot as plt\n",
        "\n",
        "# Data scaling\n",
        "from sklearn.preprocessing import MinMaxScaler\n",
        "\n",
        "# Function for spilting training & testing data set\n",
        "from sklearn.model_selection import train_test_split\n",
        "\n",
        "# Tensorflow sequential models\n",
        "import tensorflow as tf\n",
        "from tensorflow import keras\n",
        "from tensorflow.keras import backend as clear\n",
        "from tensorflow.keras.models import Sequential\n",
        "from tensorflow.keras.layers import Dense\n",
        "from tensorflow.keras.layers import Dropout\n",
        "from tensorflow.keras.layers import BatchNormalization\n",
        "from tensorflow.keras.optimizers import SGD\n",
        "from tensorflow.keras.optimizers import Adam\n",
        "\n",
        "# Functions for evaluation\n",
        "from sklearn.metrics import accuracy_score\n",
        "from sklearn.metrics import f1_score\n",
        "from sklearn.metrics import precision_score\n",
        "from sklearn.metrics import recall_score\n",
        "from sklearn.metrics import confusion_matrix\n",
        "from sklearn.metrics import ConfusionMatrixDisplay\n"
      ]
    },
    {
      "cell_type": "code",
      "source": [
        "# 讀取csv\n",
        "df = pd.read_csv('/content/drive/MyDrive/Colab Notebooks/Titanic_assignment_data_14 1.csv')\n",
        "df"
      ],
      "metadata": {
        "id": "SO_8mLKGbbwU"
      },
      "execution_count": null,
      "outputs": []
    },
    {
      "cell_type": "code",
      "source": [
        "df.iloc[:,7] = df.iloc[:,7].astype(str)\n",
        "df.describe(include=\"all\")\n"
      ],
      "metadata": {
        "id": "smzKtyiXbajX"
      },
      "execution_count": null,
      "outputs": []
    },
    {
      "cell_type": "code",
      "source": [
        "# 類別變量統計\n",
        "print(df[['Pclass']].value_counts(sort=True))\n",
        "print('+-----------------------+')\n",
        "print(df[['Sex']].value_counts(sort=True))\n",
        "print('+-----------------------+')\n",
        "print(df[['Embarked']].value_counts(sort=True))\n",
        "print('+-----------------------+')\n",
        "print(df[['Survived']].value_counts(sort=True))"
      ],
      "metadata": {
        "id": "B8MNeNnFQc0M"
      },
      "execution_count": null,
      "outputs": []
    },
    {
      "cell_type": "code",
      "source": [
        "# 連續變量統計\n",
        "df[['Age','SibSp','Parch','Fare']].describe()\n",
        "#df.loc[:,['Age','SibSp','Parch','Fare']].describe()\n",
        "#df.iloc[:,[2,3,4,5]].describe()\n"
      ],
      "metadata": {
        "id": "maFXrAbqtijn",
        "colab": {
          "base_uri": "https://localhost:8080/",
          "height": 300
        },
        "outputId": "1bdfaa59-20f0-42f8-c56b-0291f47f5620"
      },
      "execution_count": null,
      "outputs": [
        {
          "output_type": "execute_result",
          "data": {
            "text/plain": [
              "              Age        SibSp        Parch         Fare\n",
              "count  804.000000  1047.000000  1047.000000  1046.000000\n",
              "mean    29.912935     0.499522     0.406877    33.728644\n",
              "std     14.017597     1.029094     0.893288    52.904891\n",
              "min      1.000000     0.000000     0.000000     0.000000\n",
              "25%     21.000000     0.000000     0.000000     7.895800\n",
              "50%     28.000000     0.000000     0.000000    14.458300\n",
              "75%     39.000000     1.000000     0.000000    31.387500\n",
              "max     76.000000     8.000000     9.000000   512.329200"
            ],
            "text/html": [
              "\n",
              "  <div id=\"df-d1ba8de8-ed9d-4dfd-8085-104fb5579d51\">\n",
              "    <div class=\"colab-df-container\">\n",
              "      <div>\n",
              "<style scoped>\n",
              "    .dataframe tbody tr th:only-of-type {\n",
              "        vertical-align: middle;\n",
              "    }\n",
              "\n",
              "    .dataframe tbody tr th {\n",
              "        vertical-align: top;\n",
              "    }\n",
              "\n",
              "    .dataframe thead th {\n",
              "        text-align: right;\n",
              "    }\n",
              "</style>\n",
              "<table border=\"1\" class=\"dataframe\">\n",
              "  <thead>\n",
              "    <tr style=\"text-align: right;\">\n",
              "      <th></th>\n",
              "      <th>Age</th>\n",
              "      <th>SibSp</th>\n",
              "      <th>Parch</th>\n",
              "      <th>Fare</th>\n",
              "    </tr>\n",
              "  </thead>\n",
              "  <tbody>\n",
              "    <tr>\n",
              "      <th>count</th>\n",
              "      <td>804.000000</td>\n",
              "      <td>1047.000000</td>\n",
              "      <td>1047.000000</td>\n",
              "      <td>1046.000000</td>\n",
              "    </tr>\n",
              "    <tr>\n",
              "      <th>mean</th>\n",
              "      <td>29.912935</td>\n",
              "      <td>0.499522</td>\n",
              "      <td>0.406877</td>\n",
              "      <td>33.728644</td>\n",
              "    </tr>\n",
              "    <tr>\n",
              "      <th>std</th>\n",
              "      <td>14.017597</td>\n",
              "      <td>1.029094</td>\n",
              "      <td>0.893288</td>\n",
              "      <td>52.904891</td>\n",
              "    </tr>\n",
              "    <tr>\n",
              "      <th>min</th>\n",
              "      <td>1.000000</td>\n",
              "      <td>0.000000</td>\n",
              "      <td>0.000000</td>\n",
              "      <td>0.000000</td>\n",
              "    </tr>\n",
              "    <tr>\n",
              "      <th>25%</th>\n",
              "      <td>21.000000</td>\n",
              "      <td>0.000000</td>\n",
              "      <td>0.000000</td>\n",
              "      <td>7.895800</td>\n",
              "    </tr>\n",
              "    <tr>\n",
              "      <th>50%</th>\n",
              "      <td>28.000000</td>\n",
              "      <td>0.000000</td>\n",
              "      <td>0.000000</td>\n",
              "      <td>14.458300</td>\n",
              "    </tr>\n",
              "    <tr>\n",
              "      <th>75%</th>\n",
              "      <td>39.000000</td>\n",
              "      <td>1.000000</td>\n",
              "      <td>0.000000</td>\n",
              "      <td>31.387500</td>\n",
              "    </tr>\n",
              "    <tr>\n",
              "      <th>max</th>\n",
              "      <td>76.000000</td>\n",
              "      <td>8.000000</td>\n",
              "      <td>9.000000</td>\n",
              "      <td>512.329200</td>\n",
              "    </tr>\n",
              "  </tbody>\n",
              "</table>\n",
              "</div>\n",
              "      <button class=\"colab-df-convert\" onclick=\"convertToInteractive('df-d1ba8de8-ed9d-4dfd-8085-104fb5579d51')\"\n",
              "              title=\"Convert this dataframe to an interactive table.\"\n",
              "              style=\"display:none;\">\n",
              "        \n",
              "  <svg xmlns=\"http://www.w3.org/2000/svg\" height=\"24px\"viewBox=\"0 0 24 24\"\n",
              "       width=\"24px\">\n",
              "    <path d=\"M0 0h24v24H0V0z\" fill=\"none\"/>\n",
              "    <path d=\"M18.56 5.44l.94 2.06.94-2.06 2.06-.94-2.06-.94-.94-2.06-.94 2.06-2.06.94zm-11 1L8.5 8.5l.94-2.06 2.06-.94-2.06-.94L8.5 2.5l-.94 2.06-2.06.94zm10 10l.94 2.06.94-2.06 2.06-.94-2.06-.94-.94-2.06-.94 2.06-2.06.94z\"/><path d=\"M17.41 7.96l-1.37-1.37c-.4-.4-.92-.59-1.43-.59-.52 0-1.04.2-1.43.59L10.3 9.45l-7.72 7.72c-.78.78-.78 2.05 0 2.83L4 21.41c.39.39.9.59 1.41.59.51 0 1.02-.2 1.41-.59l7.78-7.78 2.81-2.81c.8-.78.8-2.07 0-2.86zM5.41 20L4 18.59l7.72-7.72 1.47 1.35L5.41 20z\"/>\n",
              "  </svg>\n",
              "      </button>\n",
              "      \n",
              "  <style>\n",
              "    .colab-df-container {\n",
              "      display:flex;\n",
              "      flex-wrap:wrap;\n",
              "      gap: 12px;\n",
              "    }\n",
              "\n",
              "    .colab-df-convert {\n",
              "      background-color: #E8F0FE;\n",
              "      border: none;\n",
              "      border-radius: 50%;\n",
              "      cursor: pointer;\n",
              "      display: none;\n",
              "      fill: #1967D2;\n",
              "      height: 32px;\n",
              "      padding: 0 0 0 0;\n",
              "      width: 32px;\n",
              "    }\n",
              "\n",
              "    .colab-df-convert:hover {\n",
              "      background-color: #E2EBFA;\n",
              "      box-shadow: 0px 1px 2px rgba(60, 64, 67, 0.3), 0px 1px 3px 1px rgba(60, 64, 67, 0.15);\n",
              "      fill: #174EA6;\n",
              "    }\n",
              "\n",
              "    [theme=dark] .colab-df-convert {\n",
              "      background-color: #3B4455;\n",
              "      fill: #D2E3FC;\n",
              "    }\n",
              "\n",
              "    [theme=dark] .colab-df-convert:hover {\n",
              "      background-color: #434B5C;\n",
              "      box-shadow: 0px 1px 3px 1px rgba(0, 0, 0, 0.15);\n",
              "      filter: drop-shadow(0px 1px 2px rgba(0, 0, 0, 0.3));\n",
              "      fill: #FFFFFF;\n",
              "    }\n",
              "  </style>\n",
              "\n",
              "      <script>\n",
              "        const buttonEl =\n",
              "          document.querySelector('#df-d1ba8de8-ed9d-4dfd-8085-104fb5579d51 button.colab-df-convert');\n",
              "        buttonEl.style.display =\n",
              "          google.colab.kernel.accessAllowed ? 'block' : 'none';\n",
              "\n",
              "        async function convertToInteractive(key) {\n",
              "          const element = document.querySelector('#df-d1ba8de8-ed9d-4dfd-8085-104fb5579d51');\n",
              "          const dataTable =\n",
              "            await google.colab.kernel.invokeFunction('convertToInteractive',\n",
              "                                                     [key], {});\n",
              "          if (!dataTable) return;\n",
              "\n",
              "          const docLinkHtml = 'Like what you see? Visit the ' +\n",
              "            '<a target=\"_blank\" href=https://colab.research.google.com/notebooks/data_table.ipynb>data table notebook</a>'\n",
              "            + ' to learn more about interactive tables.';\n",
              "          element.innerHTML = '';\n",
              "          dataTable['output_type'] = 'display_data';\n",
              "          await google.colab.output.renderOutput(dataTable, element);\n",
              "          const docLink = document.createElement('div');\n",
              "          docLink.innerHTML = docLinkHtml;\n",
              "          element.appendChild(docLink);\n",
              "        }\n",
              "      </script>\n",
              "    </div>\n",
              "  </div>\n",
              "  "
            ]
          },
          "metadata": {},
          "execution_count": 8
        }
      ]
    },
    {
      "cell_type": "code",
      "source": [
        "# 去空值\n",
        "new_df = df.dropna(axis=0,how=\"any\")\n"
      ],
      "metadata": {
        "id": "OWhu-F5etizO"
      },
      "execution_count": null,
      "outputs": []
    },
    {
      "cell_type": "code",
      "source": [
        "# one hot encode\n",
        "dummied_df=pd.get_dummies(new_df,columns=['Pclass','Sex','Embarked','Survived'])\n",
        "dummied_df"
      ],
      "metadata": {
        "id": "TSmLctkyxxkA"
      },
      "execution_count": null,
      "outputs": []
    },
    {
      "cell_type": "code",
      "source": [
        "# MinMax Scaler\n",
        "MMscaler=MinMaxScaler(feature_range=(0, 1))\n",
        "scaling=MMscaler.fit_transform(dummied_df)\n",
        "scaled_data=pd.DataFrame(data=scaling)\n",
        "scaled_data.columns=['Age','SibsSp','Parch','Fare','Pclass_1','Pclass_2','Pclass_3','Sex_female','Sex_male','Embarked_C','Embarked_Q','Embarked_S','Survived_no','Survived_yes']\n",
        "scaled_data.head()\n"
      ],
      "metadata": {
        "id": "6AfFreq5xxqN"
      },
      "execution_count": null,
      "outputs": []
    },
    {
      "cell_type": "code",
      "source": [
        "#set x (make prediction) with minimax\n",
        "x=scaled_data.drop(['Survived_no','Survived_yes'],axis=1).copy()\n",
        "\n",
        "#set y (want to predict)\n",
        "y=scaled_data['Survived_yes'].copy()\n",
        "y=y.astype(int)\n",
        "\n"
      ],
      "metadata": {
        "id": "aMx-EkGBxx3h"
      },
      "execution_count": null,
      "outputs": []
    },
    {
      "cell_type": "code",
      "source": [
        "#prepare dataset with scaling\n",
        "#Split the data (split into 80% training data & 20% testing data) (lock seed)\n",
        "x_train,x_test,y_train,y_test=train_test_split(x,y,test_size=0.2,random_state=4)\n",
        "\n",
        "from collections import Counter\n",
        "print('scaled_y_train:',Counter(y_train))\n",
        "print('------------------------------------')\n",
        "print('scaled_y_test :',Counter(y_test))\n"
      ],
      "metadata": {
        "id": "6XNYXFLJxx68"
      },
      "execution_count": null,
      "outputs": []
    },
    {
      "cell_type": "code",
      "source": [
        "def dense_generator(model_name,layers,last_layer_neurons,activation_fun=\"relu\"):\n",
        "\tn=last_layer_neurons\n",
        "\tneurons = n\n",
        "\tfor i in range(0,layers):\n",
        "\t\tneurons= neurons*2\n",
        "\t\tmodel_name.add(Dense(units=neurons, activation=activation_fun))"
      ],
      "metadata": {
        "id": "rySCecw1t4b4"
      },
      "execution_count": null,
      "outputs": []
    },
    {
      "cell_type": "code",
      "source": [
        "model=Sequential()\n",
        "\n",
        "# 6.2 Add input layer & first hidden layer\n",
        "model.add(Dense(units=24, input_dim=12, activation='relu'))\n",
        "# add 5 dense layers\n",
        "dense_generator(model,5,6)\n",
        "# add dropout layer\n",
        "model.add(Dropout(rate=0.5))\n",
        "\n",
        "# add 2 more dense layers\n",
        "dense_generator(model,2,192)\n",
        "\n",
        "# add regularization layer optional\n",
        "model.add(BatchNormalization())\n",
        "# 6.4 Add output layer\n",
        "model.add(Dense(units=1, activation='sigmoid'))\n",
        "\n",
        "# 6.5 Compile the defined Net\n",
        "opt=SGD(learning_rate=0.05,momentum=0.5)\n",
        "#opt=Adam(learning_rate=0.001,beta_1=0.9)\n",
        "model.compile(loss='binary_crossentropy', optimizer=opt, metrics=['accuracy'])\n",
        "\n"
      ],
      "metadata": {
        "id": "hTv8sRjNt4nE"
      },
      "execution_count": null,
      "outputs": []
    },
    {
      "cell_type": "code",
      "source": [
        "# Important\n",
        "x_training,x_validation,y_training,y_validation=train_test_split(x_train,y_train,test_size=0.2,random_state=24)\n",
        "\n",
        "# 7.1 Store in the history for more useful information\n",
        "history=model.fit(x_training, y_training, epochs=100, batch_size=64,verbose=1,validation_data=(x_validation, y_validation))\n",
        "\n",
        "# check the dictionary keys\n",
        "modeling_result = history.history\n",
        "modeling_result.keys()\n",
        "\n",
        "# 7.2 Plot the history of training and validation(loss)\n",
        "training_loss_values=modeling_result['loss']\n",
        "val_loss_values=modeling_result['val_loss']\n",
        "epochs=range(1,len(training_loss_values)+1)\n",
        "\n",
        "plt.figure(figsize=(12,10),dpi=300)\n",
        "plt.xlabel('Epochs',fontsize=20)\n",
        "plt.ylabel('Loss',fontsize=20)\n",
        "plt.title('Titanic ANN training & validation of Loss result ',fontsize=20)\n",
        "\n",
        "plt.plot(epochs, training_loss_values,marker='o',label='training Loss')\n",
        "plt.plot(epochs, val_loss_values,marker='o',label='validation Loss')\n",
        "plt.legend(loc=1,fontsize=24)\n",
        "plt.show()\n"
      ],
      "metadata": {
        "id": "Y5jBq1X7IwEA"
      },
      "execution_count": null,
      "outputs": []
    },
    {
      "cell_type": "code",
      "source": [
        "\n",
        "# 7.2 Plot the history of training and validation\n",
        "training_acc_values=modeling_result['accuracy']\n",
        "val_acc_values=modeling_result['val_accuracy']\n",
        "epochs=range(1,len(training_acc_values)+1)\n",
        "\n",
        "plt.figure(figsize=(12,10), dpi=300)\n",
        "plt.xlabel('Epochs',fontsize=20)\n",
        "plt.ylabel('Accuracy',fontsize=20)\n",
        "plt.title('Titanic ANN training & validation of accuracy result ',fontsize=20)\n",
        "\n",
        "plt.plot(epochs, training_acc_values,marker='o',label='training ACC')\n",
        "plt.plot(epochs, val_acc_values,marker='o',label='validation ACC')\n",
        "plt.legend(loc=4,fontsize=24)\n",
        "plt.show()\n"
      ],
      "metadata": {
        "id": "xFW-oBoiQR3g"
      },
      "execution_count": null,
      "outputs": []
    },
    {
      "cell_type": "code",
      "source": [],
      "metadata": {
        "id": "s0eAWectIwPh"
      },
      "execution_count": null,
      "outputs": []
    },
    {
      "cell_type": "code",
      "source": [],
      "metadata": {
        "id": "ZP5Hzbv0IwTM"
      },
      "execution_count": null,
      "outputs": []
    }
  ]
}